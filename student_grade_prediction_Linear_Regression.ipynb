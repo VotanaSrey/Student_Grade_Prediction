{
 "cells": [
  {
   "cell_type": "markdown",
   "metadata": {},
   "source": [
    "<h1>Student Grade Prediction - Linear Regression</h1>"
   ]
  },
  {
   "cell_type": "markdown",
   "metadata": {},
   "source": [
    "#### Attribute Information:\n",
    "\n",
    "1 school - student's school (binary: 'GP' - Gabriel Pereira or 'MS' - Mousinho da Silveira)\n",
    "<br>\n",
    "2 sex - student's sex (binary: 'F' - female or 'M' - male)\n",
    "<br>\n",
    "3 age - student's age (numeric: from 15 to 22)\n",
    "<br>\n",
    "4 address - student's home address type (binary: 'U' - urban or 'R' - rural)\n",
    "<br>\n",
    "5 famsize - family size (binary: 'LE3' - less or equal to 3 or 'GT3' - greater than 3)\n",
    "<br>\n",
    "6 Pstatus - parent's cohabitation status (binary: 'T' - living together or 'A' - apart)\n",
    "<br>\n",
    "7 Medu - mother's education (numeric: 0 - none, 1 - primary education (4th grade), 2 â€“ 5th to 9th grade, 3 â€“ secondary education or 4 â€“ higher education)\n",
    "<br>\n",
    "8 Fedu - father's education (numeric: 0 - none, 1 - primary education (4th grade), 2 â€“ 5th to 9th grade, 3 â€“ secondary education or 4 â€“ higher education)\n",
    "<br>\n",
    "9 Mjob - mother's job (nominal: 'teacher', 'health' care related, civil 'services' (e.g. administrative or police), 'at_home' or 'other')\n",
    "<br>\n",
    "10 Fjob - father's job (nominal: 'teacher', 'health' care related, civil 'services' (e.g. administrative or police), 'at_home' or 'other')\n",
    "<br>\n",
    "11 reason - reason to choose this school (nominal: close to 'home', school 'reputation', 'course' preference or 'other')\n",
    "<br>\n",
    "12 guardian - student's guardian (nominal: 'mother', 'father' or 'other')\n",
    "<br>\n",
    "13 traveltime - home to school travel time (numeric: 1 - <15 min., 2 - 15 to 30 min., 3 - 30 min. to 1 hour, or 4 - >1 hour)\n",
    "<br>\n",
    "14 studytime - weekly study time (numeric: 1 - <2 hours, 2 - 2 to 5 hours, 3 - 5 to 10 hours, or 4 - >10 hours)\n",
    "<br>\n",
    "15 failures - number of past class failures (numeric: n if 1<=n<3, else 4)\n",
    "<br>\n",
    "16 schoolsup - extra educational support (binary: yes or no)\n",
    "<br>\n",
    "17 famsup - family educational support (binary: yes or no)\n",
    "<br>\n",
    "18 paid - extra paid classes within the course subject (Math or Portuguese) (binary: yes or no)\n",
    "<br>\n",
    "19 activities - extra-curricular activities (binary: yes or no)\n",
    "<br>\n",
    "20 nursery - attended nursery school (binary: yes or no)\n",
    "<br>\n",
    "21 higher - wants to take higher education (binary: yes or no)\n",
    "<br>\n",
    "22 internet - Internet access at home (binary: yes or no)\n",
    "<br>\n",
    "23 romantic - with a romantic relationship (binary: yes or no)\n",
    "<br>\n",
    "24 famrel - quality of family relationships (numeric: from 1 - very bad to 5 - excellent)\n",
    "<br>\n",
    "25 freetime - free time after school (numeric: from 1 - very low to 5 - very high)\n",
    "<br>\n",
    "26 goout - going out with friends (numeric: from 1 - very low to 5 - very high)\n",
    "<br>\n",
    "27 Dalc - workday alcohol consumption (numeric: from 1 - very low to 5 - very high)\n",
    "<br>\n",
    "28 Walc - weekend alcohol consumption (numeric: from 1 - very low to 5 - very high)\n",
    "<br>\n",
    "29 health - current health status (numeric: from 1 - very bad to 5 - very good)\n",
    "<br>\n",
    "30 absences - number of school absences (numeric: from 0 to 93)\n",
    "<br>\n",
    "31 G1 - first period grade (numeric: from 0 to 20)\n",
    "<br>\n",
    "32 G2 - second period grade (numeric: from 0 to 20)\n",
    "<br>\n",
    "33 G3 - final grade (numeric: from 0 to 20, output target)\n",
    "<br>\n",
    "\n",
    "\n",
    "#### Source: \n",
    "https://archive.ics.uci.edu/ml/datasets/student+performance"
   ]
  },
  {
   "cell_type": "markdown",
   "metadata": {},
   "source": [
    "<h3>Import Dependencies</h3>"
   ]
  },
  {
   "cell_type": "code",
   "execution_count": 68,
   "metadata": {},
   "outputs": [],
   "source": [
    "#import python libraries\n",
    "import numpy as np\n",
    "import pandas as pd\n",
    "import matplotlib.pyplot as plt\n",
    "import seaborn as sns\n",
    "#machine learning library from scikit-learn\n",
    "import sklearn\n",
    "from sklearn.model_selection import train_test_split\n",
    "from sklearn.linear_model import LinearRegression\n",
    "from sklearn.metrics import accuracy_score, r2_score, mean_squared_error, plot_confusion_matrix\n",
    "from sklearn.preprocessing import LabelEncoder"
   ]
  },
  {
   "cell_type": "markdown",
   "metadata": {},
   "source": [
    "<h3>Load Dataset</h3>"
   ]
  },
  {
   "cell_type": "code",
   "execution_count": 97,
   "metadata": {
    "scrolled": true
   },
   "outputs": [
    {
     "data": {
      "text/html": [
       "<div>\n",
       "<style scoped>\n",
       "    .dataframe tbody tr th:only-of-type {\n",
       "        vertical-align: middle;\n",
       "    }\n",
       "\n",
       "    .dataframe tbody tr th {\n",
       "        vertical-align: top;\n",
       "    }\n",
       "\n",
       "    .dataframe thead th {\n",
       "        text-align: right;\n",
       "    }\n",
       "</style>\n",
       "<table border=\"1\" class=\"dataframe\">\n",
       "  <thead>\n",
       "    <tr style=\"text-align: right;\">\n",
       "      <th></th>\n",
       "      <th>school</th>\n",
       "      <th>sex</th>\n",
       "      <th>age</th>\n",
       "      <th>address</th>\n",
       "      <th>famsize</th>\n",
       "      <th>Pstatus</th>\n",
       "      <th>Medu</th>\n",
       "      <th>Fedu</th>\n",
       "      <th>Mjob</th>\n",
       "      <th>Fjob</th>\n",
       "      <th>reason</th>\n",
       "      <th>guardian</th>\n",
       "      <th>traveltime</th>\n",
       "      <th>studytime</th>\n",
       "      <th>failures</th>\n",
       "      <th>schoolsup</th>\n",
       "      <th>famsup</th>\n",
       "      <th>paid</th>\n",
       "      <th>activities</th>\n",
       "      <th>nursery</th>\n",
       "      <th>higher</th>\n",
       "      <th>internet</th>\n",
       "      <th>romantic</th>\n",
       "      <th>famrel</th>\n",
       "      <th>freetime</th>\n",
       "      <th>goout</th>\n",
       "      <th>Dalc</th>\n",
       "      <th>Walc</th>\n",
       "      <th>health</th>\n",
       "      <th>absences</th>\n",
       "      <th>G1</th>\n",
       "      <th>G2</th>\n",
       "      <th>G3</th>\n",
       "    </tr>\n",
       "  </thead>\n",
       "  <tbody>\n",
       "    <tr>\n",
       "      <th>390</th>\n",
       "      <td>MS</td>\n",
       "      <td>M</td>\n",
       "      <td>20</td>\n",
       "      <td>U</td>\n",
       "      <td>LE3</td>\n",
       "      <td>A</td>\n",
       "      <td>2</td>\n",
       "      <td>2</td>\n",
       "      <td>services</td>\n",
       "      <td>services</td>\n",
       "      <td>course</td>\n",
       "      <td>other</td>\n",
       "      <td>1</td>\n",
       "      <td>2</td>\n",
       "      <td>2</td>\n",
       "      <td>no</td>\n",
       "      <td>yes</td>\n",
       "      <td>yes</td>\n",
       "      <td>no</td>\n",
       "      <td>yes</td>\n",
       "      <td>yes</td>\n",
       "      <td>no</td>\n",
       "      <td>no</td>\n",
       "      <td>5</td>\n",
       "      <td>5</td>\n",
       "      <td>4</td>\n",
       "      <td>4</td>\n",
       "      <td>5</td>\n",
       "      <td>4</td>\n",
       "      <td>11</td>\n",
       "      <td>9</td>\n",
       "      <td>9</td>\n",
       "      <td>9</td>\n",
       "    </tr>\n",
       "    <tr>\n",
       "      <th>391</th>\n",
       "      <td>MS</td>\n",
       "      <td>M</td>\n",
       "      <td>17</td>\n",
       "      <td>U</td>\n",
       "      <td>LE3</td>\n",
       "      <td>T</td>\n",
       "      <td>3</td>\n",
       "      <td>1</td>\n",
       "      <td>services</td>\n",
       "      <td>services</td>\n",
       "      <td>course</td>\n",
       "      <td>mother</td>\n",
       "      <td>2</td>\n",
       "      <td>1</td>\n",
       "      <td>0</td>\n",
       "      <td>no</td>\n",
       "      <td>no</td>\n",
       "      <td>no</td>\n",
       "      <td>no</td>\n",
       "      <td>no</td>\n",
       "      <td>yes</td>\n",
       "      <td>yes</td>\n",
       "      <td>no</td>\n",
       "      <td>2</td>\n",
       "      <td>4</td>\n",
       "      <td>5</td>\n",
       "      <td>3</td>\n",
       "      <td>4</td>\n",
       "      <td>2</td>\n",
       "      <td>3</td>\n",
       "      <td>14</td>\n",
       "      <td>16</td>\n",
       "      <td>16</td>\n",
       "    </tr>\n",
       "    <tr>\n",
       "      <th>392</th>\n",
       "      <td>MS</td>\n",
       "      <td>M</td>\n",
       "      <td>21</td>\n",
       "      <td>R</td>\n",
       "      <td>GT3</td>\n",
       "      <td>T</td>\n",
       "      <td>1</td>\n",
       "      <td>1</td>\n",
       "      <td>other</td>\n",
       "      <td>other</td>\n",
       "      <td>course</td>\n",
       "      <td>other</td>\n",
       "      <td>1</td>\n",
       "      <td>1</td>\n",
       "      <td>3</td>\n",
       "      <td>no</td>\n",
       "      <td>no</td>\n",
       "      <td>no</td>\n",
       "      <td>no</td>\n",
       "      <td>no</td>\n",
       "      <td>yes</td>\n",
       "      <td>no</td>\n",
       "      <td>no</td>\n",
       "      <td>5</td>\n",
       "      <td>5</td>\n",
       "      <td>3</td>\n",
       "      <td>3</td>\n",
       "      <td>3</td>\n",
       "      <td>3</td>\n",
       "      <td>3</td>\n",
       "      <td>10</td>\n",
       "      <td>8</td>\n",
       "      <td>7</td>\n",
       "    </tr>\n",
       "    <tr>\n",
       "      <th>393</th>\n",
       "      <td>MS</td>\n",
       "      <td>M</td>\n",
       "      <td>18</td>\n",
       "      <td>R</td>\n",
       "      <td>LE3</td>\n",
       "      <td>T</td>\n",
       "      <td>3</td>\n",
       "      <td>2</td>\n",
       "      <td>services</td>\n",
       "      <td>other</td>\n",
       "      <td>course</td>\n",
       "      <td>mother</td>\n",
       "      <td>3</td>\n",
       "      <td>1</td>\n",
       "      <td>0</td>\n",
       "      <td>no</td>\n",
       "      <td>no</td>\n",
       "      <td>no</td>\n",
       "      <td>no</td>\n",
       "      <td>no</td>\n",
       "      <td>yes</td>\n",
       "      <td>yes</td>\n",
       "      <td>no</td>\n",
       "      <td>4</td>\n",
       "      <td>4</td>\n",
       "      <td>1</td>\n",
       "      <td>3</td>\n",
       "      <td>4</td>\n",
       "      <td>5</td>\n",
       "      <td>0</td>\n",
       "      <td>11</td>\n",
       "      <td>12</td>\n",
       "      <td>10</td>\n",
       "    </tr>\n",
       "    <tr>\n",
       "      <th>394</th>\n",
       "      <td>MS</td>\n",
       "      <td>M</td>\n",
       "      <td>19</td>\n",
       "      <td>U</td>\n",
       "      <td>LE3</td>\n",
       "      <td>T</td>\n",
       "      <td>1</td>\n",
       "      <td>1</td>\n",
       "      <td>other</td>\n",
       "      <td>at_home</td>\n",
       "      <td>course</td>\n",
       "      <td>father</td>\n",
       "      <td>1</td>\n",
       "      <td>1</td>\n",
       "      <td>0</td>\n",
       "      <td>no</td>\n",
       "      <td>no</td>\n",
       "      <td>no</td>\n",
       "      <td>no</td>\n",
       "      <td>yes</td>\n",
       "      <td>yes</td>\n",
       "      <td>yes</td>\n",
       "      <td>no</td>\n",
       "      <td>3</td>\n",
       "      <td>2</td>\n",
       "      <td>3</td>\n",
       "      <td>3</td>\n",
       "      <td>3</td>\n",
       "      <td>5</td>\n",
       "      <td>5</td>\n",
       "      <td>8</td>\n",
       "      <td>9</td>\n",
       "      <td>9</td>\n",
       "    </tr>\n",
       "  </tbody>\n",
       "</table>\n",
       "</div>"
      ],
      "text/plain": [
       "    school sex  age address famsize Pstatus  Medu  Fedu      Mjob      Fjob  \\\n",
       "390     MS   M   20       U     LE3       A     2     2  services  services   \n",
       "391     MS   M   17       U     LE3       T     3     1  services  services   \n",
       "392     MS   M   21       R     GT3       T     1     1     other     other   \n",
       "393     MS   M   18       R     LE3       T     3     2  services     other   \n",
       "394     MS   M   19       U     LE3       T     1     1     other   at_home   \n",
       "\n",
       "     reason guardian  traveltime  studytime  failures schoolsup famsup paid  \\\n",
       "390  course    other           1          2         2        no    yes  yes   \n",
       "391  course   mother           2          1         0        no     no   no   \n",
       "392  course    other           1          1         3        no     no   no   \n",
       "393  course   mother           3          1         0        no     no   no   \n",
       "394  course   father           1          1         0        no     no   no   \n",
       "\n",
       "    activities nursery higher internet romantic  famrel  freetime  goout  \\\n",
       "390         no     yes    yes       no       no       5         5      4   \n",
       "391         no      no    yes      yes       no       2         4      5   \n",
       "392         no      no    yes       no       no       5         5      3   \n",
       "393         no      no    yes      yes       no       4         4      1   \n",
       "394         no     yes    yes      yes       no       3         2      3   \n",
       "\n",
       "     Dalc  Walc  health  absences  G1  G2  G3  \n",
       "390     4     5       4        11   9   9   9  \n",
       "391     3     4       2         3  14  16  16  \n",
       "392     3     3       3         3  10   8   7  \n",
       "393     3     4       5         0  11  12  10  \n",
       "394     3     3       5         5   8   9   9  "
      ]
     },
     "execution_count": 97,
     "metadata": {},
     "output_type": "execute_result"
    }
   ],
   "source": [
    "#import the dataset \n",
    "dataset = pd.read_csv('student_dataset.csv')\n",
    "pd.set_option('display.max_columns',80)\n",
    "dataset.tail()"
   ]
  },
  {
   "cell_type": "code",
   "execution_count": 98,
   "metadata": {},
   "outputs": [],
   "source": [
    "#select dataset > 0 - final grade\n",
    "dataset = dataset[dataset['G3'] > 0]"
   ]
  },
  {
   "cell_type": "markdown",
   "metadata": {},
   "source": [
    "<h3>Data Preprocessing</h3>"
   ]
  },
  {
   "cell_type": "code",
   "execution_count": 99,
   "metadata": {},
   "outputs": [],
   "source": [
    "dataset.rename(columns={\n",
    "    \"school\":\"school\",\n",
    "    'sex':'gender',\n",
    "    'age':'age',\n",
    "    'address':'address',\n",
    "    'famsize':'family_size',\n",
    "    'Pstatus':'parent_cohabitation',\n",
    "    'Medu':'mother_edu',\n",
    "    'Fedu':'father_edu',\n",
    "    'Mjob':'mother_job',\n",
    "    'Fjob':'father_job',\n",
    "    'reason':'reason',\n",
    "    'guardian':'guardian',\n",
    "    'traveltime':'travel_time',\n",
    "    'studytime':'study_time',\n",
    "    'failures':'number_fail_class',\n",
    "    'schoolsup':'school_support',\n",
    "    'famsup':'family_support',\n",
    "    'paid':'extra_paid_class',\n",
    "    'activities':'extra_activity_curriculum',\n",
    "    'nursery':'nursery',\n",
    "    'higher':'higher',\n",
    "    'internet':'home_internet',\n",
    "    'romatic':'romatic',\n",
    "    'famrel':'family_relationship',\n",
    "    'freetime':'free_time',\n",
    "    'goout':'go_out',\n",
    "    'Dalc':'daily_alcohol',\n",
    "    'Walc':'week_alcohol',\n",
    "    'health':'current_health',\n",
    "    'absences':'number_absences',\n",
    "    'G1':'first_grade',\n",
    "    'G2':'second_grade',\n",
    "    'G3':'final_grade'\n",
    "}, inplace=True)"
   ]
  },
  {
   "cell_type": "code",
   "execution_count": 100,
   "metadata": {},
   "outputs": [],
   "source": [
    "#check dimensions and samples\n",
    "def check_number_data(data):\n",
    "    print(\"Number of Dimensions: \", dataset.shape[1])\n",
    "    print(\"*\" *30)\n",
    "    print(\"Number of Samples: \", dataset.shape[0])\n",
    "    \n",
    "#check the info and data types\n",
    "def check_data_info(data):\n",
    "    result = dataset.info()\n",
    "    return result\n",
    "\n",
    "#check dataset's null or not\n",
    "def check_null_values(data):\n",
    "    sum_sam = dataset.isnull().sum()\n",
    "    return sum_sam\n",
    "\n",
    "def check_duplicate_values(data):\n",
    "    data = dataset\n",
    "    r = dataset.duplicated().any()\n",
    "    if r == True:\n",
    "        print(\"Dataset has duplicated values\")\n",
    "    else:\n",
    "        print(\"Dataset has NO duplicated values\")"
   ]
  },
  {
   "cell_type": "code",
   "execution_count": 101,
   "metadata": {},
   "outputs": [
    {
     "data": {
      "image/png": "[encoded data removed]",
      "text/plain": [
       "<Figure size 1800x432 with 3 Axes>"
      ]
     },
     "metadata": {
      "needs_background": "light"
     },
     "output_type": "display_data"
    }
   ],
   "source": [
    "#check outlier\n",
    "f, axes = plt.subplots(ncols=3, figsize=(25, 6))\n",
    "\n",
    "sns.boxplot(y=dataset['first_grade'], ax=axes[0])\n",
    "sns.boxplot(y=dataset['first_grade'], ax=axes[1])\n",
    "sns.boxplot(y=dataset['final_grade'], ax=axes[2])\n",
    "plt.show()"
   ]
  },
  {
   "cell_type": "code",
   "execution_count": 102,
   "metadata": {},
   "outputs": [],
   "source": [
    "#apply label encoder into dataset\n",
    "label_encoder = LabelEncoder()\n",
    "dataset.school = label_encoder.fit_transform(dataset.school)\n",
    "dataset.reason = label_encoder.fit_transform(dataset.reason)\n",
    "dataset.guardian = label_encoder.fit_transform(dataset.guardian)\n",
    "dataset.gender = label_encoder.fit_transform(dataset.gender)\n",
    "dataset.address = label_encoder.fit_transform(dataset.address)\n",
    "dataset.family_size = label_encoder.fit_transform(dataset.family_size)\n",
    "dataset.parent_cohabitation = label_encoder.fit_transform(dataset.parent_cohabitation)\n",
    "dataset.mother_job = label_encoder.fit_transform(dataset.mother_job)\n",
    "dataset.father_job = label_encoder.fit_transform(dataset.father_job)\n",
    "dataset.school_support = label_encoder.fit_transform(dataset.school_support)\n",
    "dataset.family_support = label_encoder.fit_transform(dataset.family_support)\n",
    "dataset.extra_paid_class = label_encoder.fit_transform(dataset.extra_paid_class)\n",
    "dataset.extra_activity_curriculum = label_encoder.fit_transform(dataset.extra_activity_curriculum)\n",
    "dataset.nursery = label_encoder.fit_transform(dataset.nursery)\n",
    "dataset.higher = label_encoder.fit_transform(dataset.higher)\n",
    "dataset.home_internet = label_encoder.fit_transform(dataset.home_internet)\n",
    "dataset.romantic = label_encoder.fit_transform(dataset.romantic)"
   ]
  },
  {
   "cell_type": "code",
   "execution_count": 103,
   "metadata": {},
   "outputs": [
    {
     "data": {
      "text/plain": [
       "number_fail_class           -0.293831\n",
       "school_support              -0.238365\n",
       "number_absences             -0.213129\n",
       "week_alcohol                -0.190054\n",
       "go_out                      -0.177383\n",
       "daily_alcohol               -0.140690\n",
       "age                         -0.140372\n",
       "travel_time                 -0.099785\n",
       "school                      -0.083615\n",
       "current_health              -0.081691\n",
       "family_support              -0.067305\n",
       "guardian                    -0.062544\n",
       "romantic                    -0.049944\n",
       "extra_paid_class            -0.028899\n",
       "parent_cohabitation         -0.026665\n",
       "free_time                   -0.021589\n",
       "nursery                      0.026541\n",
       "family_relationship          0.037711\n",
       "family_size                  0.039744\n",
       "extra_activity_curriculum    0.058600\n",
       "reason                       0.060883\n",
       "father_job                   0.070625\n",
       "mother_job                   0.083822\n",
       "gender                       0.102448\n",
       "home_internet                0.111624\n",
       "higher                       0.113419\n",
       "study_time                   0.126728\n",
       "address                      0.130090\n",
       "father_edu                   0.158811\n",
       "mother_edu                   0.190308\n",
       "first_grade                  0.891805\n",
       "second_grade                 0.965583\n",
       "final_grade                  1.000000\n",
       "Name: final_grade, dtype: float64"
      ]
     },
     "execution_count": 103,
     "metadata": {},
     "output_type": "execute_result"
    }
   ],
   "source": [
    "#to see target correlations\n",
    "dataset.corr()['final_grade'].sort_values()"
   ]
  },
  {
   "cell_type": "code",
   "execution_count": 104,
   "metadata": {},
   "outputs": [],
   "source": [
    "#drop the dataset features\n",
    "dataset.drop(['number_fail_class','school_support','number_absences','school','guardian',\n",
    "             'week_alcohol','go_out','daily_alcohol', 'age','travel_time','current_health',\n",
    "             'family_support','romantic','extra_paid_class','parent_cohabitation','free_time','first_grade',\n",
    "             'second_grade'], axis=1, inplace=True)"
   ]
  },
  {
   "cell_type": "code",
   "execution_count": 105,
   "metadata": {},
   "outputs": [
    {
     "data": {
      "text/plain": [
       "gender                       int64\n",
       "address                      int64\n",
       "family_size                  int64\n",
       "mother_edu                   int64\n",
       "father_edu                   int64\n",
       "mother_job                   int64\n",
       "father_job                   int64\n",
       "reason                       int64\n",
       "study_time                   int64\n",
       "extra_activity_curriculum    int64\n",
       "nursery                      int64\n",
       "higher                       int64\n",
       "home_internet                int64\n",
       "family_relationship          int64\n",
       "final_grade                  int64\n",
       "dtype: object"
      ]
     },
     "execution_count": 105,
     "metadata": {},
     "output_type": "execute_result"
    }
   ],
   "source": [
    "dataset.dtypes"
   ]
  },
  {
   "cell_type": "code",
   "execution_count": 106,
   "metadata": {},
   "outputs": [
    {
     "data": {
      "image/png": "[encoded data removed]",
      "text/plain": [
       "<Figure size 1080x720 with 2 Axes>"
      ]
     },
     "metadata": {
      "needs_background": "light"
     },
     "output_type": "display_data"
    }
   ],
   "source": [
    "#correlations\n",
    "plt.figure(figsize=(15,10))\n",
    "correlation = dataset.corr(method='pearson')\n",
    "sns.heatmap(correlation,\n",
    "           xticklabels=correlation.columns.values,\n",
    "           yticklabels=correlation.columns.values)\n",
    "plt.show()"
   ]
  },
  {
   "cell_type": "code",
   "execution_count": 107,
   "metadata": {},
   "outputs": [],
   "source": [
    "#define X and Y\n",
    "X = dataset.drop('final_grade', axis=1)\n",
    "Y = dataset['final_grade']"
   ]
  },
  {
   "cell_type": "code",
   "execution_count": 108,
   "metadata": {},
   "outputs": [
    {
     "name": "stdout",
     "output_type": "stream",
     "text": [
      "(249, 14)\n",
      "(249,)\n",
      "(108, 14)\n",
      "(108,)\n"
     ]
    }
   ],
   "source": [
    "#apply train_test_split dataset\n",
    "x_train, x_test, y_train, y_test = train_test_split(X, Y, test_size=0.3, random_state=123)\n",
    "print(x_train.shape)\n",
    "print(y_train.shape)\n",
    "print(x_test.shape)\n",
    "print(y_test.shape)"
   ]
  },
  {
   "cell_type": "markdown",
   "metadata": {},
   "source": [
    "<h3>Train Model</h3>"
   ]
  },
  {
   "cell_type": "code",
   "execution_count": 109,
   "metadata": {},
   "outputs": [
    {
     "name": "stdout",
     "output_type": "stream",
     "text": [
      "LinearRegression()\n"
     ]
    }
   ],
   "source": [
    "#define the model\n",
    "model = LinearRegression()\n",
    "model.fit(x_train, y_train)\n",
    "print(model)"
   ]
  },
  {
   "cell_type": "markdown",
   "metadata": {},
   "source": [
    "<h3>Evaluate Model</h3>"
   ]
  },
  {
   "cell_type": "code",
   "execution_count": 110,
   "metadata": {},
   "outputs": [],
   "source": [
    "#Try to prediction & test\n",
    "y_prediction = model.predict(x_test)"
   ]
  },
  {
   "cell_type": "code",
   "execution_count": 111,
   "metadata": {},
   "outputs": [
    {
     "data": {
      "text/html": [
       "<div>\n",
       "<style scoped>\n",
       "    .dataframe tbody tr th:only-of-type {\n",
       "        vertical-align: middle;\n",
       "    }\n",
       "\n",
       "    .dataframe tbody tr th {\n",
       "        vertical-align: top;\n",
       "    }\n",
       "\n",
       "    .dataframe thead th {\n",
       "        text-align: right;\n",
       "    }\n",
       "</style>\n",
       "<table border=\"1\" class=\"dataframe\">\n",
       "  <thead>\n",
       "    <tr style=\"text-align: right;\">\n",
       "      <th></th>\n",
       "      <th>Y_Test</th>\n",
       "      <th>Y_Predicted</th>\n",
       "    </tr>\n",
       "  </thead>\n",
       "  <tbody>\n",
       "    <tr>\n",
       "      <th>0</th>\n",
       "      <td>12</td>\n",
       "      <td>9.429875</td>\n",
       "    </tr>\n",
       "    <tr>\n",
       "      <th>1</th>\n",
       "      <td>14</td>\n",
       "      <td>12.201100</td>\n",
       "    </tr>\n",
       "    <tr>\n",
       "      <th>2</th>\n",
       "      <td>12</td>\n",
       "      <td>11.026897</td>\n",
       "    </tr>\n",
       "    <tr>\n",
       "      <th>3</th>\n",
       "      <td>9</td>\n",
       "      <td>11.194765</td>\n",
       "    </tr>\n",
       "    <tr>\n",
       "      <th>4</th>\n",
       "      <td>12</td>\n",
       "      <td>12.598562</td>\n",
       "    </tr>\n",
       "  </tbody>\n",
       "</table>\n",
       "</div>"
      ],
      "text/plain": [
       "   Y_Test  Y_Predicted\n",
       "0      12     9.429875\n",
       "1      14    12.201100\n",
       "2      12    11.026897\n",
       "3       9    11.194765\n",
       "4      12    12.598562"
      ]
     },
     "execution_count": 111,
     "metadata": {},
     "output_type": "execute_result"
    }
   ],
   "source": [
    "#check the result\n",
    "y_prediction_values = pd.DataFrame(list(zip(y_test[0:10], y_prediction[0:10])), \n",
    "                                     columns=['Y_Test', 'Y_Predicted'])\n",
    "y_prediction_values.head(5)"
   ]
  },
  {
   "cell_type": "code",
   "execution_count": 112,
   "metadata": {},
   "outputs": [
    {
     "name": "stdout",
     "output_type": "stream",
     "text": [
      "####################################################################################################################\n",
      "Mean squared error:  10.347242703651725\n",
      "####################################################################################################################\n",
      "Mean absolute error:  2.6469312250388195\n",
      "####################################################################################################################\n",
      "R2 score:  0.026566017426492672\n",
      "####################################################################################################################\n"
     ]
    }
   ],
   "source": [
    "# calculat evaluation measures: mean-square-error and r2-score\n",
    "mse = metrics.mean_squared_error(y_test, y_prediction)\n",
    "mae = metrics.mean_absolute_error(y_test, y_prediction)\n",
    "r2 = metrics.r2_score(y_test, y_prediction)\n",
    "\n",
    "print(\"##\" * 58)\n",
    "print('Mean squared error: ', mse)\n",
    "print(\"##\" * 58)\n",
    "print('Mean absolute error: ', mae)\n",
    "print(\"##\" * 58)\n",
    "print('R2 score: ', r2)\n",
    "print(\"##\" * 58)"
   ]
  },
  {
   "cell_type": "code",
   "execution_count": 113,
   "metadata": {},
   "outputs": [
    {
     "name": "stdout",
     "output_type": "stream",
     "text": [
      "Model Score: 0.1145650706487561\n",
      "********************************************************************************************************************\n",
      "Model Score (%) : 11.456507064875609\n"
     ]
    }
   ],
   "source": [
    "#Check train data score of model\n",
    "train_score = model.score(x_train, y_train)\n",
    "print(\"Model Score:\", train_score)\n",
    "print(\"**\" * 58)\n",
    "print(\"Model Score (%) :\", train_score * 100)"
   ]
  },
  {
   "cell_type": "code",
   "execution_count": 114,
   "metadata": {},
   "outputs": [
    {
     "name": "stdout",
     "output_type": "stream",
     "text": [
      "Model Score: 0.026566017426492672\n",
      "********************************************************************************************************************\n",
      "Model Score (%) : 2.656601742649267\n"
     ]
    }
   ],
   "source": [
    "#Check test data score of model\n",
    "test_score = model.score(x_test, y_test)\n",
    "print(\"Model Score:\", test_score)\n",
    "print(\"**\" * 58)\n",
    "print(\"Model Score (%) :\", test_score * 100)"
   ]
  },
  {
   "cell_type": "code",
   "execution_count": 115,
   "metadata": {},
   "outputs": [
    {
     "data": {
      "image/png": "[encoded data removed]",
      "text/plain": [
       "<Figure size 1080x432 with 1 Axes>"
      ]
     },
     "metadata": {
      "needs_background": "light"
     },
     "output_type": "display_data"
    }
   ],
   "source": [
    "#Plot the results \n",
    "#Plot data ft scatter plot\n",
    "#ravel() function can solve the problem replace to values() function\n",
    "\n",
    "fig, ax = plt.subplots(figsize=(15,6))\n",
    "ax.scatter(y_test, y_prediction, color='#065164', marker='*')\n",
    "ax.set_xlabel('Actual/Real Values')\n",
    "ax.set_ylabel('Predicted Values')\n",
    "\n",
    "#Draw a regression line\n",
    "y_test, y_prediction = y_test.ravel().reshape(-1,1), y_prediction.ravel().reshape(-1,1)\n",
    "ax.plot(y_test, LinearRegression().fit(y_test, y_prediction).predict(y_test), color='r')\n",
    "plt.title(\"Student Grade Prediction (Linear Regression)\", color=\"#065164\",fontsize='15', fontweight='bold')\n",
    "plt.legend(['Estimated Regression Line', 'Observation Data'])\n",
    "\n",
    "plt.show()"
   ]
  }
 ],
 "metadata": {
  "kernelspec": {
   "display_name": "Python 3",
   "language": "python",
   "name": "python3"
  },
  "language_info": {
   "codemirror_mode": {
    "name": "ipython",
    "version": 3
   },
   "file_extension": ".py",
   "mimetype": "text/x-python",
   "name": "python",
   "nbconvert_exporter": "python",
   "pygments_lexer": "ipython3",
   "version": "3.8.5"
  }
 },
 "nbformat": 4,
 "nbformat_minor": 4
}
