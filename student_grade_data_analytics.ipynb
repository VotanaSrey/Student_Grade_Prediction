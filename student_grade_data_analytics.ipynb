{
 "cells": [
  {
   "cell_type": "markdown",
   "metadata": {},
   "source": [
    "<h1>Student Grade Prediction - Data Analysis</h1>"
   ]
  },
  {
   "cell_type": "markdown",
   "metadata": {},
   "source": [
    "#### Attribute Information:\n",
    "\n",
    "1 school - student's school (binary: 'GP' - Gabriel Pereira or 'MS' - Mousinho da Silveira)\n",
    "<br>\n",
    "2 sex - student's sex (binary: 'F' - female or 'M' - male)\n",
    "<br>\n",
    "3 age - student's age (numeric: from 15 to 22)\n",
    "<br>\n",
    "4 address - student's home address type (binary: 'U' - urban or 'R' - rural)\n",
    "<br>\n",
    "5 famsize - family size (binary: 'LE3' - less or equal to 3 or 'GT3' - greater than 3)\n",
    "<br>\n",
    "6 Pstatus - parent's cohabitation status (binary: 'T' - living together or 'A' - apart)\n",
    "<br>\n",
    "7 Medu - mother's education (numeric: 0 - none, 1 - primary education (4th grade), 2 â€“ 5th to 9th grade, 3 â€“ secondary education or 4 â€“ higher education)\n",
    "<br>\n",
    "8 Fedu - father's education (numeric: 0 - none, 1 - primary education (4th grade), 2 â€“ 5th to 9th grade, 3 â€“ secondary education or 4 â€“ higher education)\n",
    "<br>\n",
    "9 Mjob - mother's job (nominal: 'teacher', 'health' care related, civil 'services' (e.g. administrative or police), 'at_home' or 'other')\n",
    "<br>\n",
    "10 Fjob - father's job (nominal: 'teacher', 'health' care related, civil 'services' (e.g. administrative or police), 'at_home' or 'other')\n",
    "<br>\n",
    "11 reason - reason to choose this school (nominal: close to 'home', school 'reputation', 'course' preference or 'other')\n",
    "<br>\n",
    "12 guardian - student's guardian (nominal: 'mother', 'father' or 'other')\n",
    "<br>\n",
    "13 traveltime - home to school travel time (numeric: 1 - <15 min., 2 - 15 to 30 min., 3 - 30 min. to 1 hour, or 4 - >1 hour)\n",
    "<br>\n",
    "14 studytime - weekly study time (numeric: 1 - <2 hours, 2 - 2 to 5 hours, 3 - 5 to 10 hours, or 4 - >10 hours)\n",
    "<br>\n",
    "15 failures - number of past class failures (numeric: n if 1<=n<3, else 4)\n",
    "<br>\n",
    "16 schoolsup - extra educational support (binary: yes or no)\n",
    "<br>\n",
    "17 famsup - family educational support (binary: yes or no)\n",
    "<br>\n",
    "18 paid - extra paid classes within the course subject (Math or Portuguese) (binary: yes or no)\n",
    "<br>\n",
    "19 activities - extra-curricular activities (binary: yes or no)\n",
    "<br>\n",
    "20 nursery - attended nursery school (binary: yes or no)\n",
    "<br>\n",
    "21 higher - wants to take higher education (binary: yes or no)\n",
    "<br>\n",
    "22 internet - Internet access at home (binary: yes or no)\n",
    "<br>\n",
    "23 romantic - with a romantic relationship (binary: yes or no)\n",
    "<br>\n",
    "24 famrel - quality of family relationships (numeric: from 1 - very bad to 5 - excellent)\n",
    "<br>\n",
    "25 freetime - free time after school (numeric: from 1 - very low to 5 - very high)\n",
    "<br>\n",
    "26 goout - going out with friends (numeric: from 1 - very low to 5 - very high)\n",
    "<br>\n",
    "27 Dalc - workday alcohol consumption (numeric: from 1 - very low to 5 - very high)\n",
    "<br>\n",
    "28 Walc - weekend alcohol consumption (numeric: from 1 - very low to 5 - very high)\n",
    "<br>\n",
    "29 health - current health status (numeric: from 1 - very bad to 5 - very good)\n",
    "<br>\n",
    "30 absences - number of school absences (numeric: from 0 to 93)\n",
    "<br>\n",
    "31 G1 - first period grade (numeric: from 0 to 20)\n",
    "<br>\n",
    "32 G2 - second period grade (numeric: from 0 to 20)\n",
    "<br>\n",
    "33 G3 - final grade (numeric: from 0 to 20, output target)\n",
    "<br>\n",
    "\n",
    "\n",
    "#### Source: \n",
    "https://archive.ics.uci.edu/ml/datasets/student+performance"
   ]
  },
  {
   "cell_type": "markdown",
   "metadata": {},
   "source": [
    "<h3>Import Dependencies</h3>"
   ]
  },
  {
   "cell_type": "code",
   "execution_count": 126,
   "metadata": {},
   "outputs": [],
   "source": [
    "#import relevant library\n",
    "\n",
    "import pandas as pd\n",
    "import numpy as np\n",
    "import matplotlib.pyplot as plt\n",
    "import seaborn as sns\n",
    "import string\n"
   ]
  },
  {
   "cell_type": "markdown",
   "metadata": {},
   "source": [
    "<h3>Load Dataset</h3>"
   ]
  },
  {
   "cell_type": "code",
   "execution_count": 127,
   "metadata": {
    "scrolled": false
   },
   "outputs": [
    {
     "data": {
      "text/html": [
       "<div>\n",
       "<style scoped>\n",
       "    .dataframe tbody tr th:only-of-type {\n",
       "        vertical-align: middle;\n",
       "    }\n",
       "\n",
       "    .dataframe tbody tr th {\n",
       "        vertical-align: top;\n",
       "    }\n",
       "\n",
       "    .dataframe thead th {\n",
       "        text-align: right;\n",
       "    }\n",
       "</style>\n",
       "<table border=\"1\" class=\"dataframe\">\n",
       "  <thead>\n",
       "    <tr style=\"text-align: right;\">\n",
       "      <th></th>\n",
       "      <th>school</th>\n",
       "      <th>sex</th>\n",
       "      <th>age</th>\n",
       "      <th>address</th>\n",
       "      <th>famsize</th>\n",
       "      <th>Pstatus</th>\n",
       "      <th>Medu</th>\n",
       "      <th>Fedu</th>\n",
       "      <th>Mjob</th>\n",
       "      <th>Fjob</th>\n",
       "      <th>reason</th>\n",
       "      <th>guardian</th>\n",
       "      <th>traveltime</th>\n",
       "      <th>studytime</th>\n",
       "      <th>failures</th>\n",
       "      <th>schoolsup</th>\n",
       "      <th>famsup</th>\n",
       "      <th>paid</th>\n",
       "      <th>activities</th>\n",
       "      <th>nursery</th>\n",
       "      <th>higher</th>\n",
       "      <th>internet</th>\n",
       "      <th>romantic</th>\n",
       "      <th>famrel</th>\n",
       "      <th>freetime</th>\n",
       "      <th>goout</th>\n",
       "      <th>Dalc</th>\n",
       "      <th>Walc</th>\n",
       "      <th>health</th>\n",
       "      <th>absences</th>\n",
       "      <th>G1</th>\n",
       "      <th>G2</th>\n",
       "      <th>G3</th>\n",
       "    </tr>\n",
       "  </thead>\n",
       "  <tbody>\n",
       "    <tr>\n",
       "      <th>390</th>\n",
       "      <td>MS</td>\n",
       "      <td>M</td>\n",
       "      <td>20</td>\n",
       "      <td>U</td>\n",
       "      <td>LE3</td>\n",
       "      <td>A</td>\n",
       "      <td>2</td>\n",
       "      <td>2</td>\n",
       "      <td>services</td>\n",
       "      <td>services</td>\n",
       "      <td>course</td>\n",
       "      <td>other</td>\n",
       "      <td>1</td>\n",
       "      <td>2</td>\n",
       "      <td>2</td>\n",
       "      <td>no</td>\n",
       "      <td>yes</td>\n",
       "      <td>yes</td>\n",
       "      <td>no</td>\n",
       "      <td>yes</td>\n",
       "      <td>yes</td>\n",
       "      <td>no</td>\n",
       "      <td>no</td>\n",
       "      <td>5</td>\n",
       "      <td>5</td>\n",
       "      <td>4</td>\n",
       "      <td>4</td>\n",
       "      <td>5</td>\n",
       "      <td>4</td>\n",
       "      <td>11</td>\n",
       "      <td>9</td>\n",
       "      <td>9</td>\n",
       "      <td>9</td>\n",
       "    </tr>\n",
       "    <tr>\n",
       "      <th>391</th>\n",
       "      <td>MS</td>\n",
       "      <td>M</td>\n",
       "      <td>17</td>\n",
       "      <td>U</td>\n",
       "      <td>LE3</td>\n",
       "      <td>T</td>\n",
       "      <td>3</td>\n",
       "      <td>1</td>\n",
       "      <td>services</td>\n",
       "      <td>services</td>\n",
       "      <td>course</td>\n",
       "      <td>mother</td>\n",
       "      <td>2</td>\n",
       "      <td>1</td>\n",
       "      <td>0</td>\n",
       "      <td>no</td>\n",
       "      <td>no</td>\n",
       "      <td>no</td>\n",
       "      <td>no</td>\n",
       "      <td>no</td>\n",
       "      <td>yes</td>\n",
       "      <td>yes</td>\n",
       "      <td>no</td>\n",
       "      <td>2</td>\n",
       "      <td>4</td>\n",
       "      <td>5</td>\n",
       "      <td>3</td>\n",
       "      <td>4</td>\n",
       "      <td>2</td>\n",
       "      <td>3</td>\n",
       "      <td>14</td>\n",
       "      <td>16</td>\n",
       "      <td>16</td>\n",
       "    </tr>\n",
       "    <tr>\n",
       "      <th>392</th>\n",
       "      <td>MS</td>\n",
       "      <td>M</td>\n",
       "      <td>21</td>\n",
       "      <td>R</td>\n",
       "      <td>GT3</td>\n",
       "      <td>T</td>\n",
       "      <td>1</td>\n",
       "      <td>1</td>\n",
       "      <td>other</td>\n",
       "      <td>other</td>\n",
       "      <td>course</td>\n",
       "      <td>other</td>\n",
       "      <td>1</td>\n",
       "      <td>1</td>\n",
       "      <td>3</td>\n",
       "      <td>no</td>\n",
       "      <td>no</td>\n",
       "      <td>no</td>\n",
       "      <td>no</td>\n",
       "      <td>no</td>\n",
       "      <td>yes</td>\n",
       "      <td>no</td>\n",
       "      <td>no</td>\n",
       "      <td>5</td>\n",
       "      <td>5</td>\n",
       "      <td>3</td>\n",
       "      <td>3</td>\n",
       "      <td>3</td>\n",
       "      <td>3</td>\n",
       "      <td>3</td>\n",
       "      <td>10</td>\n",
       "      <td>8</td>\n",
       "      <td>7</td>\n",
       "    </tr>\n",
       "    <tr>\n",
       "      <th>393</th>\n",
       "      <td>MS</td>\n",
       "      <td>M</td>\n",
       "      <td>18</td>\n",
       "      <td>R</td>\n",
       "      <td>LE3</td>\n",
       "      <td>T</td>\n",
       "      <td>3</td>\n",
       "      <td>2</td>\n",
       "      <td>services</td>\n",
       "      <td>other</td>\n",
       "      <td>course</td>\n",
       "      <td>mother</td>\n",
       "      <td>3</td>\n",
       "      <td>1</td>\n",
       "      <td>0</td>\n",
       "      <td>no</td>\n",
       "      <td>no</td>\n",
       "      <td>no</td>\n",
       "      <td>no</td>\n",
       "      <td>no</td>\n",
       "      <td>yes</td>\n",
       "      <td>yes</td>\n",
       "      <td>no</td>\n",
       "      <td>4</td>\n",
       "      <td>4</td>\n",
       "      <td>1</td>\n",
       "      <td>3</td>\n",
       "      <td>4</td>\n",
       "      <td>5</td>\n",
       "      <td>0</td>\n",
       "      <td>11</td>\n",
       "      <td>12</td>\n",
       "      <td>10</td>\n",
       "    </tr>\n",
       "    <tr>\n",
       "      <th>394</th>\n",
       "      <td>MS</td>\n",
       "      <td>M</td>\n",
       "      <td>19</td>\n",
       "      <td>U</td>\n",
       "      <td>LE3</td>\n",
       "      <td>T</td>\n",
       "      <td>1</td>\n",
       "      <td>1</td>\n",
       "      <td>other</td>\n",
       "      <td>at_home</td>\n",
       "      <td>course</td>\n",
       "      <td>father</td>\n",
       "      <td>1</td>\n",
       "      <td>1</td>\n",
       "      <td>0</td>\n",
       "      <td>no</td>\n",
       "      <td>no</td>\n",
       "      <td>no</td>\n",
       "      <td>no</td>\n",
       "      <td>yes</td>\n",
       "      <td>yes</td>\n",
       "      <td>yes</td>\n",
       "      <td>no</td>\n",
       "      <td>3</td>\n",
       "      <td>2</td>\n",
       "      <td>3</td>\n",
       "      <td>3</td>\n",
       "      <td>3</td>\n",
       "      <td>5</td>\n",
       "      <td>5</td>\n",
       "      <td>8</td>\n",
       "      <td>9</td>\n",
       "      <td>9</td>\n",
       "    </tr>\n",
       "  </tbody>\n",
       "</table>\n",
       "</div>"
      ],
      "text/plain": [
       "    school sex  age address famsize Pstatus  Medu  Fedu      Mjob      Fjob  \\\n",
       "390     MS   M   20       U     LE3       A     2     2  services  services   \n",
       "391     MS   M   17       U     LE3       T     3     1  services  services   \n",
       "392     MS   M   21       R     GT3       T     1     1     other     other   \n",
       "393     MS   M   18       R     LE3       T     3     2  services     other   \n",
       "394     MS   M   19       U     LE3       T     1     1     other   at_home   \n",
       "\n",
       "     reason guardian  traveltime  studytime  failures schoolsup famsup paid  \\\n",
       "390  course    other           1          2         2        no    yes  yes   \n",
       "391  course   mother           2          1         0        no     no   no   \n",
       "392  course    other           1          1         3        no     no   no   \n",
       "393  course   mother           3          1         0        no     no   no   \n",
       "394  course   father           1          1         0        no     no   no   \n",
       "\n",
       "    activities nursery higher internet romantic  famrel  freetime  goout  \\\n",
       "390         no     yes    yes       no       no       5         5      4   \n",
       "391         no      no    yes      yes       no       2         4      5   \n",
       "392         no      no    yes       no       no       5         5      3   \n",
       "393         no      no    yes      yes       no       4         4      1   \n",
       "394         no     yes    yes      yes       no       3         2      3   \n",
       "\n",
       "     Dalc  Walc  health  absences  G1  G2  G3  \n",
       "390     4     5       4        11   9   9   9  \n",
       "391     3     4       2         3  14  16  16  \n",
       "392     3     3       3         3  10   8   7  \n",
       "393     3     4       5         0  11  12  10  \n",
       "394     3     3       5         5   8   9   9  "
      ]
     },
     "execution_count": 127,
     "metadata": {},
     "output_type": "execute_result"
    }
   ],
   "source": [
    "#import dataset \n",
    "dataset = pd.read_csv('student_dataset.csv')\n",
    "pd.set_option('display.max_columns',80)\n",
    "dataset.tail()"
   ]
  },
  {
   "cell_type": "markdown",
   "metadata": {},
   "source": [
    "<h3>Data Preparation</h3>"
   ]
  },
  {
   "cell_type": "code",
   "execution_count": 128,
   "metadata": {
    "scrolled": true
   },
   "outputs": [
    {
     "data": {
      "text/plain": [
       "Index(['school', 'sex', 'age', 'address', 'famsize', 'Pstatus', 'Medu', 'Fedu',\n",
       "       'Mjob', 'Fjob', 'reason', 'guardian', 'traveltime', 'studytime',\n",
       "       'failures', 'schoolsup', 'famsup', 'paid', 'activities', 'nursery',\n",
       "       'higher', 'internet', 'romantic', 'famrel', 'freetime', 'goout', 'Dalc',\n",
       "       'Walc', 'health', 'absences', 'G1', 'G2', 'G3'],\n",
       "      dtype='object')"
      ]
     },
     "execution_count": 128,
     "metadata": {},
     "output_type": "execute_result"
    }
   ],
   "source": [
    "#check the dataset columns\n",
    "dataset.columns"
   ]
  },
  {
   "cell_type": "code",
   "execution_count": 129,
   "metadata": {},
   "outputs": [],
   "source": [
    "dataset.rename(columns={\n",
    "    \"school\":\"school\",\n",
    "    'sex':'gender',\n",
    "    'age':'age',\n",
    "    'address':'address',\n",
    "    'famsize':'family_size',\n",
    "    'Pstatus':'parent_cohabitation',\n",
    "    'Medu':'mother_edu',\n",
    "    'Fedu':'father_edu',\n",
    "    'Mjob':'mother_job',\n",
    "    'Fjob':'father_job',\n",
    "    'reason':'reason',\n",
    "    'guardian':'guardian',\n",
    "    'traveltime':'travel_time',\n",
    "    'studytime':'study_time',\n",
    "    'failures':'number_fail_class',\n",
    "    'schoolsup':'school_support',\n",
    "    'famsup':'family_support',\n",
    "    'paid':'extra_paid_class',\n",
    "    'activities':'extra_activity_curriculum',\n",
    "    'nursery':'nursery',\n",
    "    'higher':'higher',\n",
    "    'internet':'home_internet',\n",
    "    'romatic':'romatic',\n",
    "    'famrel':'family_relationship',\n",
    "    'freetime':'free_time',\n",
    "    'goout':'go_out',\n",
    "    'Dalc':'daily_alcohol',\n",
    "    'Walc':'week_alcohol',\n",
    "    'health':'current_health',\n",
    "    'absences':'number_absences',\n",
    "    'G1':'first_grade',\n",
    "    'G2':'second_grade',\n",
    "    'G3':'final_grade'\n",
    "}, inplace=True)"
   ]
  },
  {
   "cell_type": "code",
   "execution_count": 130,
   "metadata": {},
   "outputs": [],
   "source": [
    "#check dimensions and samples\n",
    "def check_number_data(data):\n",
    "    print(\"Number of Dimensions: \", dataset.shape[1])\n",
    "    print(\"*\" *30)\n",
    "    print(\"Number of Samples: \", dataset.shape[0])\n",
    "    \n",
    "#check the info and data types\n",
    "def check_data_info(data):\n",
    "    result = dataset.info()\n",
    "    return result\n",
    "\n",
    "#check dataset's null or not\n",
    "def check_null_values(data):\n",
    "    sum_sam = dataset.isnull().sum()\n",
    "    return sum_sam\n",
    "\n",
    "def check_duplicate_values(data):\n",
    "    data = dataset\n",
    "    r = dataset.duplicated().any()\n",
    "    if r == True:\n",
    "        print(\"Dataset has duplicated values\")\n",
    "    else:\n",
    "        print(\"Dataset has NO duplicated values\")"
   ]
  },
  {
   "cell_type": "code",
   "execution_count": 131,
   "metadata": {},
   "outputs": [
    {
     "name": "stdout",
     "output_type": "stream",
     "text": [
      "Number of Dimensions:  33\n",
      "******************************\n",
      "Number of Samples:  395\n"
     ]
    }
   ],
   "source": [
    "#check dimension and samples\n",
    "check_number_data(dataset)"
   ]
  },
  {
   "cell_type": "code",
   "execution_count": 132,
   "metadata": {},
   "outputs": [
    {
     "name": "stdout",
     "output_type": "stream",
     "text": [
      "<class 'pandas.core.frame.DataFrame'>\n",
      "RangeIndex: 395 entries, 0 to 394\n",
      "Data columns (total 33 columns):\n",
      " #   Column                     Non-Null Count  Dtype \n",
      "---  ------                     --------------  ----- \n",
      " 0   school                     395 non-null    object\n",
      " 1   gender                     395 non-null    object\n",
      " 2   age                        395 non-null    int64 \n",
      " 3   address                    395 non-null    object\n",
      " 4   family_size                395 non-null    object\n",
      " 5   parent_cohabitation        395 non-null    object\n",
      " 6   mother_edu                 395 non-null    int64 \n",
      " 7   father_edu                 395 non-null    int64 \n",
      " 8   mother_job                 395 non-null    object\n",
      " 9   father_job                 395 non-null    object\n",
      " 10  reason                     395 non-null    object\n",
      " 11  guardian                   395 non-null    object\n",
      " 12  travel_time                395 non-null    int64 \n",
      " 13  study_time                 395 non-null    int64 \n",
      " 14  number_fail_class          395 non-null    int64 \n",
      " 15  school_support             395 non-null    object\n",
      " 16  family_support             395 non-null    object\n",
      " 17  extra_paid_class           395 non-null    object\n",
      " 18  extra_activity_curriculum  395 non-null    object\n",
      " 19  nursery                    395 non-null    object\n",
      " 20  higher                     395 non-null    object\n",
      " 21  home_internet              395 non-null    object\n",
      " 22  romantic                   395 non-null    object\n",
      " 23  family_relationship        395 non-null    int64 \n",
      " 24  free_time                  395 non-null    int64 \n",
      " 25  go_out                     395 non-null    int64 \n",
      " 26  daily_alcohol              395 non-null    int64 \n",
      " 27  week_alcohol               395 non-null    int64 \n",
      " 28  current_health             395 non-null    int64 \n",
      " 29  number_absences            395 non-null    int64 \n",
      " 30  first_grade                395 non-null    int64 \n",
      " 31  second_grade               395 non-null    int64 \n",
      " 32  final_grade                395 non-null    int64 \n",
      "dtypes: int64(16), object(17)\n",
      "memory usage: 102.0+ KB\n"
     ]
    }
   ],
   "source": [
    "#check the info and data types\n",
    "check_data_info(dataset)"
   ]
  },
  {
   "cell_type": "code",
   "execution_count": 133,
   "metadata": {},
   "outputs": [
    {
     "data": {
      "text/plain": [
       "school                       0\n",
       "gender                       0\n",
       "age                          0\n",
       "address                      0\n",
       "family_size                  0\n",
       "parent_cohabitation          0\n",
       "mother_edu                   0\n",
       "father_edu                   0\n",
       "mother_job                   0\n",
       "father_job                   0\n",
       "reason                       0\n",
       "guardian                     0\n",
       "travel_time                  0\n",
       "study_time                   0\n",
       "number_fail_class            0\n",
       "school_support               0\n",
       "family_support               0\n",
       "extra_paid_class             0\n",
       "extra_activity_curriculum    0\n",
       "nursery                      0\n",
       "higher                       0\n",
       "home_internet                0\n",
       "romantic                     0\n",
       "family_relationship          0\n",
       "free_time                    0\n",
       "go_out                       0\n",
       "daily_alcohol                0\n",
       "week_alcohol                 0\n",
       "current_health               0\n",
       "number_absences              0\n",
       "first_grade                  0\n",
       "second_grade                 0\n",
       "final_grade                  0\n",
       "dtype: int64"
      ]
     },
     "execution_count": 133,
     "metadata": {},
     "output_type": "execute_result"
    }
   ],
   "source": [
    "#check the dataset is null or not\n",
    "check_null_values(dataset)"
   ]
  },
  {
   "cell_type": "code",
   "execution_count": 134,
   "metadata": {
    "scrolled": true
   },
   "outputs": [
    {
     "name": "stdout",
     "output_type": "stream",
     "text": [
      "Dataset has NO duplicated values\n"
     ]
    }
   ],
   "source": [
    "#check the duplicated values\n",
    "check_duplicate_values(dataset)"
   ]
  },
  {
   "cell_type": "markdown",
   "metadata": {},
   "source": [
    "<h3>Data Analysis</h3>"
   ]
  },
  {
   "cell_type": "code",
   "execution_count": 135,
   "metadata": {},
   "outputs": [],
   "source": [
    "#check unique_values\n",
    "def check_unique_values(series):\n",
    "    result = series.unique()\n",
    "    print(\"*\" * 54)\n",
    "    return result\n",
    "#check value_counts\n",
    "def check_value_counts(series):\n",
    "    result = series.value_counts()\n",
    "    print(\"*\" * 54)\n",
    "    return result"
   ]
  },
  {
   "cell_type": "markdown",
   "metadata": {},
   "source": [
    "<h3>Student Background - Informations</h3>"
   ]
  },
  {
   "cell_type": "code",
   "execution_count": 163,
   "metadata": {},
   "outputs": [
    {
     "data": {
      "image/png": "[encoded data removed]",
      "text/plain": [
       "<Figure size 720x360 with 1 Axes>"
      ]
     },
     "metadata": {
      "needs_background": "light"
     },
     "output_type": "display_data"
    }
   ],
   "source": [
    "#which school has many student?\n",
    "\n",
    "plt.figure(figsize=(10,5))\n",
    "sns.barplot(x=dataset.school.unique(), y=dataset.school.value_counts(), data=dataset)\n",
    "plt.title('School', fontweight='bold')\n",
    "plt.show()"
   ]
  },
  {
   "cell_type": "code",
   "execution_count": 156,
   "metadata": {},
   "outputs": [
    {
     "data": {
      "image/png": "[encoded data removed]",
      "text/plain": [
       "<Figure size 720x360 with 1 Axes>"
      ]
     },
     "metadata": {},
     "output_type": "display_data"
    }
   ],
   "source": [
    "#let see student gender\n",
    "\n",
    "plt.figure(figsize=(10,5))\n",
    "dataset['gender'].value_counts().plot.pie(autopct='%.2f')\n",
    "plt.title('Gender', fontweight='bold')\n",
    "plt.show()"
   ]
  },
  {
   "cell_type": "code",
   "execution_count": 155,
   "metadata": {
    "scrolled": true
   },
   "outputs": [
    {
     "data": {
      "image/png": "[encoded data removed]",
      "text/plain": [
       "<Figure size 720x360 with 1 Axes>"
      ]
     },
     "metadata": {
      "needs_background": "light"
     },
     "output_type": "display_data"
    }
   ],
   "source": [
    "#which student age are higly studied there?\n",
    "\n",
    "plt.figure(figsize=(10,5))\n",
    "sns.histplot(y='age', data=dataset , color=None)\n",
    "plt.title('Student Age', fontweight='bold')\n",
    "plt.show()"
   ]
  },
  {
   "cell_type": "code",
   "execution_count": 157,
   "metadata": {
    "scrolled": true
   },
   "outputs": [
    {
     "data": {
      "image/png": "[encoded data removed]",
      "text/plain": [
       "<Figure size 720x360 with 1 Axes>"
      ]
     },
     "metadata": {},
     "output_type": "display_data"
    }
   ],
   "source": [
    "#family size\n",
    "plt.figure(figsize=(10,5))\n",
    "dataset['family_size'].value_counts().plot.pie(autopct='%.2f')\n",
    "plt.title('Familay Size', fontweight='bold')\n",
    "plt.show()"
   ]
  },
  {
   "cell_type": "code",
   "execution_count": 162,
   "metadata": {
    "scrolled": false
   },
   "outputs": [
    {
     "data": {
      "image/png": "[encoded data removed]",
      "text/plain": [
       "<Figure size 720x360 with 1 Axes>"
      ]
     },
     "metadata": {
      "needs_background": "light"
     },
     "output_type": "display_data"
    },
    {
     "name": "stdout",
     "output_type": "stream",
     "text": [
      "******************************************************\n"
     ]
    },
    {
     "data": {
      "text/plain": [
       "T    354\n",
       "A     41\n",
       "Name: parent_cohabitation, dtype: int64"
      ]
     },
     "execution_count": 162,
     "metadata": {},
     "output_type": "execute_result"
    }
   ],
   "source": [
    "#parent cohabitation\n",
    "\n",
    "plt.figure(figsize=(10,5))\n",
    "sns.barplot(x=dataset.parent_cohabitation.unique(), y=dataset.parent_cohabitation.value_counts(), data=dataset)\n",
    "plt.title('Parent Cohabitation - Gender', fontweight='bold')\n",
    "plt.show()\n",
    "\n",
    "check_value_counts(dataset.parent_cohabitation)"
   ]
  },
  {
   "cell_type": "code",
   "execution_count": 165,
   "metadata": {
    "scrolled": false
   },
   "outputs": [
    {
     "data": {
      "image/png": "[encoded data removed]",
      "text/plain": [
       "<Figure size 720x360 with 1 Axes>"
      ]
     },
     "metadata": {
      "needs_background": "light"
     },
     "output_type": "display_data"
    },
    {
     "name": "stdout",
     "output_type": "stream",
     "text": [
      "******************************************************\n"
     ]
    },
    {
     "data": {
      "text/plain": [
       "4    131\n",
       "2    103\n",
       "3     99\n",
       "1     59\n",
       "0      3\n",
       "Name: mother_edu, dtype: int64"
      ]
     },
     "execution_count": 165,
     "metadata": {},
     "output_type": "execute_result"
    }
   ],
   "source": [
    "#mother education\n",
    "\n",
    "plt.figure(figsize=(10,5))\n",
    "sns.barplot(x=dataset.mother_edu.unique(), y=dataset.mother_edu.value_counts(), data=dataset)\n",
    "plt.title('Mother Education', fontweight='bold')\n",
    "plt.show()\n",
    "\n",
    "check_value_counts(dataset.mother_edu)"
   ]
  },
  {
   "cell_type": "code",
   "execution_count": 167,
   "metadata": {},
   "outputs": [
    {
     "data": {
      "image/png": "[encoded data removed]",
      "text/plain": [
       "<Figure size 720x360 with 1 Axes>"
      ]
     },
     "metadata": {
      "needs_background": "light"
     },
     "output_type": "display_data"
    },
    {
     "name": "stdout",
     "output_type": "stream",
     "text": [
      "******************************************************\n"
     ]
    },
    {
     "data": {
      "text/plain": [
       "other       141\n",
       "services    103\n",
       "at_home      59\n",
       "teacher      58\n",
       "health       34\n",
       "Name: mother_job, dtype: int64"
      ]
     },
     "execution_count": 167,
     "metadata": {},
     "output_type": "execute_result"
    }
   ],
   "source": [
    "#mother job\n",
    "\n",
    "plt.figure(figsize=(10,5))\n",
    "sns.barplot(x=dataset.mother_job.unique(), y=dataset.mother_job.value_counts(), data=dataset)\n",
    "plt.title('Mother Job', fontweight='bold')\n",
    "plt.show()\n",
    "\n",
    "check_value_counts(dataset.mother_job)"
   ]
  },
  {
   "cell_type": "code",
   "execution_count": 166,
   "metadata": {},
   "outputs": [
    {
     "data": {
      "image/png": "[encoded data removed]",
      "text/plain": [
       "<Figure size 720x360 with 1 Axes>"
      ]
     },
     "metadata": {
      "needs_background": "light"
     },
     "output_type": "display_data"
    },
    {
     "name": "stdout",
     "output_type": "stream",
     "text": [
      "******************************************************\n"
     ]
    },
    {
     "data": {
      "text/plain": [
       "2    115\n",
       "3    100\n",
       "4     96\n",
       "1     82\n",
       "0      2\n",
       "Name: father_edu, dtype: int64"
      ]
     },
     "execution_count": 166,
     "metadata": {},
     "output_type": "execute_result"
    }
   ],
   "source": [
    "#father education\n",
    "\n",
    "plt.figure(figsize=(10,5))\n",
    "sns.barplot(x=dataset.father_edu.unique(), y=dataset.father_edu.value_counts(), data=dataset)\n",
    "plt.title('Father Education', fontweight='bold')\n",
    "plt.show()\n",
    "\n",
    "check_value_counts(dataset.father_edu)"
   ]
  },
  {
   "cell_type": "code",
   "execution_count": 168,
   "metadata": {
    "scrolled": false
   },
   "outputs": [
    {
     "data": {
      "image/png": "[encoded data removed]",
      "text/plain": [
       "<Figure size 720x360 with 1 Axes>"
      ]
     },
     "metadata": {
      "needs_background": "light"
     },
     "output_type": "display_data"
    },
    {
     "name": "stdout",
     "output_type": "stream",
     "text": [
      "******************************************************\n"
     ]
    },
    {
     "data": {
      "text/plain": [
       "other       217\n",
       "services    111\n",
       "teacher      29\n",
       "at_home      20\n",
       "health       18\n",
       "Name: father_job, dtype: int64"
      ]
     },
     "execution_count": 168,
     "metadata": {},
     "output_type": "execute_result"
    }
   ],
   "source": [
    "#father job\n",
    "\n",
    "plt.figure(figsize=(10,5))\n",
    "sns.barplot(x=dataset.father_job.unique(), y=dataset.father_job.value_counts(), data=dataset)\n",
    "plt.title('Father Job', fontweight='bold')\n",
    "plt.show()\n",
    "\n",
    "check_value_counts(dataset.father_job)"
   ]
  },
  {
   "cell_type": "code",
   "execution_count": 169,
   "metadata": {},
   "outputs": [
    {
     "data": {
      "image/png": "[encoded data removed]",
      "text/plain": [
       "<Figure size 720x360 with 1 Axes>"
      ]
     },
     "metadata": {
      "needs_background": "light"
     },
     "output_type": "display_data"
    },
    {
     "name": "stdout",
     "output_type": "stream",
     "text": [
      "******************************************************\n"
     ]
    },
    {
     "data": {
      "text/plain": [
       "course        145\n",
       "home          109\n",
       "reputation    105\n",
       "other          36\n",
       "Name: reason, dtype: int64"
      ]
     },
     "execution_count": 169,
     "metadata": {},
     "output_type": "execute_result"
    }
   ],
   "source": [
    "#why student choose the school - reason\n",
    "\n",
    "plt.figure(figsize=(10,5))\n",
    "sns.barplot(x=dataset.reason.unique(), y=dataset.reason.value_counts(), data=dataset)\n",
    "plt.title('Reason Choose School', fontweight='bold')\n",
    "plt.show()\n",
    "\n",
    "check_value_counts(dataset.reason)"
   ]
  },
  {
   "cell_type": "code",
   "execution_count": 171,
   "metadata": {
    "scrolled": false
   },
   "outputs": [
    {
     "data": {
      "image/png": "[encoded data removed]",
      "text/plain": [
       "<Figure size 720x360 with 1 Axes>"
      ]
     },
     "metadata": {
      "needs_background": "light"
     },
     "output_type": "display_data"
    },
    {
     "name": "stdout",
     "output_type": "stream",
     "text": [
      "******************************************************\n"
     ]
    },
    {
     "data": {
      "text/plain": [
       "mother    273\n",
       "father     90\n",
       "other      32\n",
       "Name: guardian, dtype: int64"
      ]
     },
     "execution_count": 171,
     "metadata": {},
     "output_type": "execute_result"
    }
   ],
   "source": [
    "#student guardian\n",
    "\n",
    "plt.figure(figsize=(10,5))\n",
    "sns.barplot(x=dataset.guardian.unique(), y=dataset.guardian.value_counts(), data=dataset)\n",
    "plt.title('Student Guardian', fontweight='bold')\n",
    "plt.show()\n",
    "\n",
    "check_value_counts(dataset.guardian)"
   ]
  },
  {
   "cell_type": "code",
   "execution_count": 173,
   "metadata": {
    "scrolled": false
   },
   "outputs": [
    {
     "data": {
      "image/png": "[encoded data removed]",
      "text/plain": [
       "<Figure size 720x360 with 1 Axes>"
      ]
     },
     "metadata": {
      "needs_background": "light"
     },
     "output_type": "display_data"
    },
    {
     "name": "stdout",
     "output_type": "stream",
     "text": [
      "******************************************************\n"
     ]
    },
    {
     "data": {
      "text/plain": [
       "1    257\n",
       "2    107\n",
       "3     23\n",
       "4      8\n",
       "Name: travel_time, dtype: int64"
      ]
     },
     "execution_count": 173,
     "metadata": {},
     "output_type": "execute_result"
    }
   ],
   "source": [
    "#Travel time\n",
    "\n",
    "plt.figure(figsize=(10,5))\n",
    "sns.barplot(x=dataset.travel_time.unique(), y=dataset.travel_time.value_counts(), data=dataset)\n",
    "plt.title('Travel Time - Home To School', fontweight='bold')\n",
    "plt.show()\n",
    "\n",
    "check_value_counts(dataset.travel_time)"
   ]
  },
  {
   "cell_type": "code",
   "execution_count": 174,
   "metadata": {},
   "outputs": [
    {
     "data": {
      "image/png": "[encoded data removed]",
      "text/plain": [
       "<Figure size 720x360 with 1 Axes>"
      ]
     },
     "metadata": {
      "needs_background": "light"
     },
     "output_type": "display_data"
    },
    {
     "name": "stdout",
     "output_type": "stream",
     "text": [
      "******************************************************\n"
     ]
    },
    {
     "data": {
      "text/plain": [
       "2    198\n",
       "1    105\n",
       "3     65\n",
       "4     27\n",
       "Name: study_time, dtype: int64"
      ]
     },
     "execution_count": 174,
     "metadata": {},
     "output_type": "execute_result"
    }
   ],
   "source": [
    "\n",
    "\n",
    "plt.figure(figsize=(10,5))\n",
    "sns.barplot(x=dataset.study_time.unique(), y=dataset.study_time.value_counts(), data=dataset)\n",
    "plt.title('Study Time', fontweight='bold')\n",
    "plt.show()\n",
    "\n",
    "check_value_counts(dataset.study_time)"
   ]
  },
  {
   "cell_type": "code",
   "execution_count": 176,
   "metadata": {},
   "outputs": [
    {
     "data": {
      "image/png": "[encoded data removed]",
      "text/plain": [
       "<Figure size 720x360 with 1 Axes>"
      ]
     },
     "metadata": {
      "needs_background": "light"
     },
     "output_type": "display_data"
    },
    {
     "name": "stdout",
     "output_type": "stream",
     "text": [
      "******************************************************\n"
     ]
    },
    {
     "data": {
      "text/plain": [
       "0    312\n",
       "1     50\n",
       "2     17\n",
       "3     16\n",
       "Name: number_fail_class, dtype: int64"
      ]
     },
     "execution_count": 176,
     "metadata": {},
     "output_type": "execute_result"
    }
   ],
   "source": [
    "\n",
    "\n",
    "plt.figure(figsize=(10,5))\n",
    "sns.barplot(x=dataset.number_fail_class.unique(), y=dataset.number_fail_class.value_counts(), data=dataset)\n",
    "plt.title('Number Of Class Failures', fontweight='bold')\n",
    "plt.show()\n",
    "\n",
    "check_value_counts(dataset.number_fail_class)"
   ]
  },
  {
   "cell_type": "code",
   "execution_count": 178,
   "metadata": {
    "scrolled": false
   },
   "outputs": [
    {
     "data": {
      "image/png": "[encoded data removed]",
      "text/plain": [
       "<Figure size 720x360 with 1 Axes>"
      ]
     },
     "metadata": {
      "needs_background": "light"
     },
     "output_type": "display_data"
    },
    {
     "name": "stdout",
     "output_type": "stream",
     "text": [
      "******************************************************\n"
     ]
    },
    {
     "data": {
      "text/plain": [
       "no     344\n",
       "yes     51\n",
       "Name: school_support, dtype: int64"
      ]
     },
     "execution_count": 178,
     "metadata": {},
     "output_type": "execute_result"
    }
   ],
   "source": [
    "\n",
    "\n",
    "plt.figure(figsize=(10,5))\n",
    "sns.barplot(x=dataset.school_support.unique(), y=dataset.school_support.value_counts(), data=dataset)\n",
    "plt.title('Other School Supports', fontweight='bold')\n",
    "plt.show()\n",
    "\n",
    "check_value_counts(dataset.school_support)"
   ]
  },
  {
   "cell_type": "code",
   "execution_count": 180,
   "metadata": {},
   "outputs": [
    {
     "data": {
      "image/png": "[encoded data removed]",
      "text/plain": [
       "<Figure size 720x360 with 1 Axes>"
      ]
     },
     "metadata": {
      "needs_background": "light"
     },
     "output_type": "display_data"
    },
    {
     "name": "stdout",
     "output_type": "stream",
     "text": [
      "******************************************************\n"
     ]
    },
    {
     "data": {
      "text/plain": [
       "yes    242\n",
       "no     153\n",
       "Name: family_support, dtype: int64"
      ]
     },
     "execution_count": 180,
     "metadata": {},
     "output_type": "execute_result"
    }
   ],
   "source": [
    "\n",
    "plt.figure(figsize=(10,5))\n",
    "sns.barplot(x=dataset.family_support.unique(), y=dataset.family_support.value_counts(), data=dataset)\n",
    "plt.title('Family Supports', fontweight='bold')\n",
    "plt.show()\n",
    "\n",
    "check_value_counts(dataset.family_support)"
   ]
  },
  {
   "cell_type": "code",
   "execution_count": 182,
   "metadata": {
    "scrolled": false
   },
   "outputs": [
    {
     "data": {
      "image/png": "[encoded data removed]",
      "text/plain": [
       "<Figure size 720x360 with 1 Axes>"
      ]
     },
     "metadata": {
      "needs_background": "light"
     },
     "output_type": "display_data"
    },
    {
     "name": "stdout",
     "output_type": "stream",
     "text": [
      "******************************************************\n"
     ]
    },
    {
     "data": {
      "text/plain": [
       "no     214\n",
       "yes    181\n",
       "Name: extra_paid_class, dtype: int64"
      ]
     },
     "execution_count": 182,
     "metadata": {},
     "output_type": "execute_result"
    }
   ],
   "source": [
    "\n",
    "plt.figure(figsize=(10,5))\n",
    "sns.barplot(x=dataset.extra_paid_class.unique(), y=dataset.extra_paid_class.value_counts(), data=dataset)\n",
    "plt.title('Extra Class Supports', fontweight='bold')\n",
    "plt.show()\n",
    "\n",
    "check_value_counts(dataset.extra_paid_class)"
   ]
  },
  {
   "cell_type": "code",
   "execution_count": 186,
   "metadata": {
    "scrolled": false
   },
   "outputs": [
    {
     "data": {
      "image/png": "[encoded data removed]",
      "text/plain": [
       "<Figure size 720x360 with 1 Axes>"
      ]
     },
     "metadata": {
      "needs_background": "light"
     },
     "output_type": "display_data"
    },
    {
     "name": "stdout",
     "output_type": "stream",
     "text": [
      "******************************************************\n"
     ]
    },
    {
     "data": {
      "text/plain": [
       "yes    201\n",
       "no     194\n",
       "Name: extra_activity_curriculum, dtype: int64"
      ]
     },
     "execution_count": 186,
     "metadata": {},
     "output_type": "execute_result"
    }
   ],
   "source": [
    "\n",
    "plt.figure(figsize=(10,5))\n",
    "sns.barplot(x=dataset.extra_activity_curriculum.unique(), y=dataset.extra_activity_curriculum.value_counts(), data=dataset)\n",
    "plt.title('Extra Activity Curriculum', fontweight='bold')\n",
    "plt.show()\n",
    "\n",
    "check_value_counts(dataset.extra_activity_curriculum)"
   ]
  },
  {
   "cell_type": "code",
   "execution_count": 187,
   "metadata": {},
   "outputs": [
    {
     "data": {
      "image/png": "[encoded data removed]",
      "text/plain": [
       "<Figure size 720x360 with 1 Axes>"
      ]
     },
     "metadata": {
      "needs_background": "light"
     },
     "output_type": "display_data"
    },
    {
     "name": "stdout",
     "output_type": "stream",
     "text": [
      "******************************************************\n"
     ]
    },
    {
     "data": {
      "text/plain": [
       "yes    314\n",
       "no      81\n",
       "Name: nursery, dtype: int64"
      ]
     },
     "execution_count": 187,
     "metadata": {},
     "output_type": "execute_result"
    }
   ],
   "source": [
    "\n",
    "plt.figure(figsize=(10,5))\n",
    "sns.barplot(x=dataset.nursery.unique(), y=dataset.nursery.value_counts(), data=dataset)\n",
    "plt.title('Nursery', fontweight='bold')\n",
    "plt.show()\n",
    "\n",
    "check_value_counts(dataset.nursery)"
   ]
  },
  {
   "cell_type": "code",
   "execution_count": 188,
   "metadata": {},
   "outputs": [
    {
     "data": {
      "image/png": "[encoded data removed]",
      "text/plain": [
       "<Figure size 720x360 with 1 Axes>"
      ]
     },
     "metadata": {
      "needs_background": "light"
     },
     "output_type": "display_data"
    },
    {
     "name": "stdout",
     "output_type": "stream",
     "text": [
      "******************************************************\n"
     ]
    },
    {
     "data": {
      "text/plain": [
       "yes    375\n",
       "no      20\n",
       "Name: higher, dtype: int64"
      ]
     },
     "execution_count": 188,
     "metadata": {},
     "output_type": "execute_result"
    }
   ],
   "source": [
    "\n",
    "plt.figure(figsize=(10,5))\n",
    "sns.barplot(x=dataset.higher.unique(), y=dataset.higher.value_counts(), data=dataset)\n",
    "plt.title('Who want higher education', fontweight='bold')\n",
    "plt.show()\n",
    "\n",
    "check_value_counts(dataset.higher)"
   ]
  },
  {
   "cell_type": "code",
   "execution_count": 189,
   "metadata": {
    "scrolled": false
   },
   "outputs": [
    {
     "data": {
      "image/png": "[encoded data removed]",
      "text/plain": [
       "<Figure size 720x360 with 1 Axes>"
      ]
     },
     "metadata": {
      "needs_background": "light"
     },
     "output_type": "display_data"
    },
    {
     "name": "stdout",
     "output_type": "stream",
     "text": [
      "******************************************************\n"
     ]
    },
    {
     "data": {
      "text/plain": [
       "yes    329\n",
       "no      66\n",
       "Name: home_internet, dtype: int64"
      ]
     },
     "execution_count": 189,
     "metadata": {},
     "output_type": "execute_result"
    }
   ],
   "source": [
    "\n",
    "plt.figure(figsize=(10,5))\n",
    "sns.barplot(x=dataset.home_internet.unique(), y=dataset.home_internet.value_counts(), data=dataset)\n",
    "plt.title('Home Internet', fontweight='bold')\n",
    "plt.show()\n",
    "\n",
    "check_value_counts(dataset.home_internet)"
   ]
  },
  {
   "cell_type": "code",
   "execution_count": 192,
   "metadata": {},
   "outputs": [
    {
     "data": {
      "image/png": "[encoded data removed]",
      "text/plain": [
       "<Figure size 720x360 with 1 Axes>"
      ]
     },
     "metadata": {
      "needs_background": "light"
     },
     "output_type": "display_data"
    },
    {
     "name": "stdout",
     "output_type": "stream",
     "text": [
      "******************************************************\n"
     ]
    },
    {
     "data": {
      "text/plain": [
       "no     263\n",
       "yes    132\n",
       "Name: romantic, dtype: int64"
      ]
     },
     "execution_count": 192,
     "metadata": {},
     "output_type": "execute_result"
    }
   ],
   "source": [
    "#students have relationship or not\n",
    "\n",
    "plt.figure(figsize=(10,5))\n",
    "sns.barplot(x=dataset.romantic.unique(), y=dataset.romantic.value_counts(), data=dataset)\n",
    "plt.title('Student Relationship', fontweight='bold')\n",
    "plt.show()\n",
    "\n",
    "check_value_counts(dataset.romantic)"
   ]
  },
  {
   "cell_type": "code",
   "execution_count": 193,
   "metadata": {},
   "outputs": [
    {
     "data": {
      "image/png": "[encoded data removed]",
      "text/plain": [
       "<Figure size 720x360 with 1 Axes>"
      ]
     },
     "metadata": {
      "needs_background": "light"
     },
     "output_type": "display_data"
    },
    {
     "name": "stdout",
     "output_type": "stream",
     "text": [
      "******************************************************\n"
     ]
    },
    {
     "data": {
      "text/plain": [
       "4    195\n",
       "5    106\n",
       "3     68\n",
       "2     18\n",
       "1      8\n",
       "Name: family_relationship, dtype: int64"
      ]
     },
     "execution_count": 193,
     "metadata": {},
     "output_type": "execute_result"
    }
   ],
   "source": [
    "#family relationship status\n",
    "\n",
    "plt.figure(figsize=(10,5))\n",
    "sns.barplot(x=dataset.family_relationship.unique(), y=dataset.family_relationship.value_counts(), data=dataset)\n",
    "plt.title('Family Relationship', fontweight='bold')\n",
    "plt.show()\n",
    "\n",
    "check_value_counts(dataset.family_relationship)"
   ]
  },
  {
   "cell_type": "code",
   "execution_count": 194,
   "metadata": {
    "scrolled": false
   },
   "outputs": [
    {
     "data": {
      "image/png": "[encoded data removed]",
      "text/plain": [
       "<Figure size 720x360 with 1 Axes>"
      ]
     },
     "metadata": {
      "needs_background": "light"
     },
     "output_type": "display_data"
    },
    {
     "name": "stdout",
     "output_type": "stream",
     "text": [
      "******************************************************\n"
     ]
    },
    {
     "data": {
      "text/plain": [
       "3    157\n",
       "4    115\n",
       "2     64\n",
       "5     40\n",
       "1     19\n",
       "Name: free_time, dtype: int64"
      ]
     },
     "execution_count": 194,
     "metadata": {},
     "output_type": "execute_result"
    }
   ],
   "source": [
    "#free time\n",
    "\n",
    "plt.figure(figsize=(10,5))\n",
    "sns.barplot(x=dataset.free_time.unique(), y=dataset.free_time.value_counts(), data=dataset)\n",
    "plt.title('Student Free Time', fontweight='bold')\n",
    "plt.show()\n",
    "\n",
    "check_value_counts(dataset.free_time)"
   ]
  },
  {
   "cell_type": "code",
   "execution_count": 196,
   "metadata": {},
   "outputs": [
    {
     "data": {
      "image/png": "[encoded data removed]",
      "text/plain": [
       "<Figure size 720x360 with 1 Axes>"
      ]
     },
     "metadata": {
      "needs_background": "light"
     },
     "output_type": "display_data"
    },
    {
     "name": "stdout",
     "output_type": "stream",
     "text": [
      "******************************************************\n"
     ]
    },
    {
     "data": {
      "text/plain": [
       "3    130\n",
       "2    103\n",
       "4     86\n",
       "5     53\n",
       "1     23\n",
       "Name: go_out, dtype: int64"
      ]
     },
     "execution_count": 196,
     "metadata": {},
     "output_type": "execute_result"
    }
   ],
   "source": [
    "\n",
    "plt.figure(figsize=(10,5))\n",
    "sns.barplot(x=dataset.go_out.unique(), y=dataset.go_out.value_counts(), data=dataset)\n",
    "plt.title('Student Going Out Time', fontweight='bold')\n",
    "plt.show()\n",
    "\n",
    "check_value_counts(dataset.go_out)"
   ]
  },
  {
   "cell_type": "code",
   "execution_count": 197,
   "metadata": {},
   "outputs": [
    {
     "data": {
      "image/png": "[encoded data removed]",
      "text/plain": [
       "<Figure size 720x360 with 1 Axes>"
      ]
     },
     "metadata": {
      "needs_background": "light"
     },
     "output_type": "display_data"
    },
    {
     "name": "stdout",
     "output_type": "stream",
     "text": [
      "******************************************************\n"
     ]
    },
    {
     "data": {
      "text/plain": [
       "1    276\n",
       "2     75\n",
       "3     26\n",
       "5      9\n",
       "4      9\n",
       "Name: daily_alcohol, dtype: int64"
      ]
     },
     "execution_count": 197,
     "metadata": {},
     "output_type": "execute_result"
    }
   ],
   "source": [
    "\n",
    "plt.figure(figsize=(10,5))\n",
    "sns.barplot(x=dataset.daily_alcohol.unique(), y=dataset.daily_alcohol.value_counts(), data=dataset)\n",
    "plt.title('Student Daily Alcohol', fontweight='bold')\n",
    "plt.show()\n",
    "\n",
    "check_value_counts(dataset.daily_alcohol)"
   ]
  },
  {
   "cell_type": "code",
   "execution_count": 198,
   "metadata": {},
   "outputs": [
    {
     "data": {
      "image/png": "[encoded data removed]",
      "text/plain": [
       "<Figure size 720x360 with 1 Axes>"
      ]
     },
     "metadata": {
      "needs_background": "light"
     },
     "output_type": "display_data"
    },
    {
     "name": "stdout",
     "output_type": "stream",
     "text": [
      "******************************************************\n"
     ]
    },
    {
     "data": {
      "text/plain": [
       "1    151\n",
       "2     85\n",
       "3     80\n",
       "4     51\n",
       "5     28\n",
       "Name: week_alcohol, dtype: int64"
      ]
     },
     "execution_count": 198,
     "metadata": {},
     "output_type": "execute_result"
    }
   ],
   "source": [
    "\n",
    "plt.figure(figsize=(10,5))\n",
    "sns.barplot(x=dataset.week_alcohol.unique(), y=dataset.week_alcohol.value_counts(), data=dataset)\n",
    "plt.title('Student Weekly Alcohol', fontweight='bold')\n",
    "plt.show()\n",
    "\n",
    "check_value_counts(dataset.week_alcohol)"
   ]
  },
  {
   "cell_type": "code",
   "execution_count": 201,
   "metadata": {},
   "outputs": [
    {
     "data": {
      "image/png": "[encoded data removed]",
      "text/plain": [
       "<Figure size 720x360 with 1 Axes>"
      ]
     },
     "metadata": {
      "needs_background": "light"
     },
     "output_type": "display_data"
    },
    {
     "name": "stdout",
     "output_type": "stream",
     "text": [
      "******************************************************\n"
     ]
    },
    {
     "data": {
      "text/plain": [
       "5    146\n",
       "3     91\n",
       "4     66\n",
       "1     47\n",
       "2     45\n",
       "Name: current_health, dtype: int64"
      ]
     },
     "execution_count": 201,
     "metadata": {},
     "output_type": "execute_result"
    }
   ],
   "source": [
    "\n",
    "plt.figure(figsize=(10,5))\n",
    "sns.barplot(x=dataset.current_health.unique(), y=dataset.current_health.value_counts(), data=dataset)\n",
    "plt.title('Student Current Healthy', fontweight='bold')\n",
    "plt.show()\n",
    "\n",
    "check_value_counts(dataset.current_health)"
   ]
  },
  {
   "cell_type": "code",
   "execution_count": 205,
   "metadata": {},
   "outputs": [
    {
     "data": {
      "image/png": "[encoded data removed]",
      "text/plain": [
       "<Figure size 720x360 with 1 Axes>"
      ]
     },
     "metadata": {
      "needs_background": "light"
     },
     "output_type": "display_data"
    },
    {
     "name": "stdout",
     "output_type": "stream",
     "text": [
      "******************************************************\n"
     ]
    },
    {
     "data": {
      "text/plain": [
       "0     115\n",
       "2      65\n",
       "4      53\n",
       "6      31\n",
       "8      22\n",
       "10     17\n",
       "14     12\n",
       "12     12\n",
       "3       8\n",
       "16      7\n",
       "7       7\n",
       "5       5\n",
       "18      5\n",
       "20      4\n",
       "11      3\n",
       "9       3\n",
       "13      3\n",
       "15      3\n",
       "22      3\n",
       "1       3\n",
       "38      1\n",
       "30      1\n",
       "40      1\n",
       "23      1\n",
       "19      1\n",
       "28      1\n",
       "75      1\n",
       "21      1\n",
       "24      1\n",
       "56      1\n",
       "26      1\n",
       "54      1\n",
       "25      1\n",
       "17      1\n",
       "Name: number_absences, dtype: int64"
      ]
     },
     "execution_count": 205,
     "metadata": {},
     "output_type": "execute_result"
    }
   ],
   "source": [
    "\n",
    "plt.figure(figsize=(10,5))\n",
    "#sns.barplot(x=dataset.number_absences.unique(), y=dataset.number_absences.value_counts(), data=dataset)\n",
    "sns.histplot(x='number_absences', data=dataset , color=None)\n",
    "plt.title('Student Absences Numbers', fontweight='bold')\n",
    "plt.show()\n",
    "\n",
    "check_value_counts(dataset.number_absences)"
   ]
  }
 ],
 "metadata": {
  "kernelspec": {
   "display_name": "Python 3",
   "language": "python",
   "name": "python3"
  },
  "language_info": {
   "codemirror_mode": {
    "name": "ipython",
    "version": 3
   },
   "file_extension": ".py",
   "mimetype": "text/x-python",
   "name": "python",
   "nbconvert_exporter": "python",
   "pygments_lexer": "ipython3",
   "version": "3.8.5"
  }
 },
 "nbformat": 4,
 "nbformat_minor": 4
}
